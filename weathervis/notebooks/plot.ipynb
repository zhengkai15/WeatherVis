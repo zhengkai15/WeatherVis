{
 "cells": [
  {
   "cell_type": "code",
   "execution_count": 1,
   "metadata": {},
   "outputs": [],
   "source": [
    "import xarray as xr"
   ]
  },
  {
   "cell_type": "code",
   "execution_count": null,
   "metadata": {},
   "outputs": [],
   "source": [
    "ds = xr.open_dataset(\"/cpfs01/projects-HDD/cfff-4a8d9af84f66_HDD/public/zhengkai/c88_inference_result_online_fc0_fine-tune_from_hist/6h/20230101-12_input_grib-output/006.nc\")\n",
    "ds_plot = ds.to_array().isel(variable=0,time=0,lead_time=0).sel(channel=\"T2M\")\n",
    "ds_plot"
   ]
  },
  {
   "cell_type": "code",
   "execution_count": null,
   "metadata": {},
   "outputs": [],
   "source": [
    "import matplotlib.pyplot as plt\n",
    "import cartopy.crs as ccrs\n",
    "import cmcrameri.cm as cmc  # roma_r\n",
    "import numpy as np\n",
    "\n",
    "fig = plt.figure(figsize=(8, 6))\n",
    "ax = fig.add_subplot(1, 1, 1, projection=ccrs.Mollweide())  # Mercator Mollweide\n",
    "im = ds_plot.plot(ax=ax, transform=ccrs.PlateCarree(), add_colorbar=False,cmap=\"bwr\", levels=(np.arange(265,310,2)))\n",
    "ax.coastlines(resolution='110m')"
   ]
  },
  {
   "cell_type": "code",
   "execution_count": null,
   "metadata": {},
   "outputs": [],
   "source": []
  }
 ],
 "metadata": {
  "kernelspec": {
   "display_name": "FuXi-Sparse",
   "language": "python",
   "name": "python3"
  },
  "language_info": {
   "codemirror_mode": {
    "name": "ipython",
    "version": 3
   },
   "file_extension": ".py",
   "mimetype": "text/x-python",
   "name": "python",
   "nbconvert_exporter": "python",
   "pygments_lexer": "ipython3",
   "version": "3.8.18"
  }
 },
 "nbformat": 4,
 "nbformat_minor": 2
}
